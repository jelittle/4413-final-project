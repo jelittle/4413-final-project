{
  "nbformat": 4,
  "nbformat_minor": 0,
  "metadata": {
    "colab": {
      "provenance": [],
      "include_colab_link": true
    },
    "kernelspec": {
      "name": "python3",
      "display_name": "Python 3"
    },
    "accelerator": "GPU"
  },
  "cells": [
    {
      "cell_type": "markdown",
      "metadata": {
        "id": "view-in-github",
        "colab_type": "text"
      },
      "source": [
        "<a href=\"https://colab.research.google.com/github/jelittle/4413-final-project/blob/colour-simulation/CarColourSimulation/ultralytics_yolo_car_segmentation.ipynb\" target=\"_parent\"><img src=\"https://colab.research.google.com/assets/colab-badge.svg\" alt=\"Open In Colab\"/></a>"
      ]
    },
    {
      "cell_type": "markdown",
      "source": [
        "## Dataset Structure\n",
        "\n",
        "The data distribution within the Carparts Segmentation Dataset is organized as outlined below:\n",
        "\n",
        "- **Training set**: Includes 3156 images, each accompanied by its corresponding annotations.\n",
        "- **Testing set**: Comprises 276 images, with each one paired with its respective annotations.\n",
        "- **Validation set**: Consists of 401 images, each having corresponding annotations."
      ],
      "metadata": {
        "id": "xypoYW_oYZAf"
      }
    },
    {
      "cell_type": "markdown",
      "metadata": {
        "id": "7mGmQbAO5pQb"
      },
      "source": [
        "## Setup\n",
        "\n",
        "pip install `ultralytics` and [dependencies](https://github.com/ultralytics/ultralytics/blob/main/pyproject.toml) and check software and hardware.\n",
        "\n",
        "[![PyPI - Version](https://img.shields.io/pypi/v/ultralytics?logo=pypi&logoColor=white)](https://pypi.org/project/ultralytics/) [![Downloads](https://static.pepy.tech/badge/ultralytics)](https://www.pepy.tech/projects/ultralytics) [![PyPI - Python Version](https://img.shields.io/pypi/pyversions/ultralytics?logo=python&logoColor=gold)](https://pypi.org/project/ultralytics/)"
      ]
    },
    {
      "cell_type": "code",
      "source": [
        "!pip install ultralytics\n",
        "!pip install --upgrade dataset-tools\n",
        "!pip install supervisely"
      ],
      "metadata": {
        "colab": {
          "base_uri": "https://localhost:8080/"
        },
        "id": "-6lUACwBbC8r",
        "outputId": "448e3cc3-5955-4666-86fd-55ed866c4403"
      },
      "execution_count": 5,
      "outputs": [
        {
          "output_type": "stream",
          "name": "stdout",
          "text": [
            "Requirement already satisfied: ultralytics in /usr/local/lib/python3.11/dist-packages (8.3.160)\n",
            "Requirement already satisfied: numpy>=1.23.0 in /usr/local/lib/python3.11/dist-packages (from ultralytics) (1.26.4)\n",
            "Requirement already satisfied: matplotlib>=3.3.0 in /usr/local/lib/python3.11/dist-packages (from ultralytics) (3.10.0)\n",
            "Requirement already satisfied: opencv-python>=4.6.0 in /usr/local/lib/python3.11/dist-packages (from ultralytics) (4.11.0.86)\n",
            "Requirement already satisfied: pillow>=7.1.2 in /usr/local/lib/python3.11/dist-packages (from ultralytics) (10.2.0)\n",
            "Requirement already satisfied: pyyaml>=5.3.1 in /usr/local/lib/python3.11/dist-packages (from ultralytics) (6.0.2)\n",
            "Requirement already satisfied: requests>=2.23.0 in /usr/local/lib/python3.11/dist-packages (from ultralytics) (2.32.3)\n",
            "Requirement already satisfied: scipy>=1.4.1 in /usr/local/lib/python3.11/dist-packages (from ultralytics) (1.15.3)\n",
            "Requirement already satisfied: torch>=1.8.0 in /usr/local/lib/python3.11/dist-packages (from ultralytics) (2.6.0+cu124)\n",
            "Requirement already satisfied: torchvision>=0.9.0 in /usr/local/lib/python3.11/dist-packages (from ultralytics) (0.21.0+cu124)\n",
            "Requirement already satisfied: tqdm>=4.64.0 in /usr/local/lib/python3.11/dist-packages (from ultralytics) (4.67.1)\n",
            "Requirement already satisfied: psutil in /usr/local/lib/python3.11/dist-packages (from ultralytics) (5.9.5)\n",
            "Requirement already satisfied: py-cpuinfo in /usr/local/lib/python3.11/dist-packages (from ultralytics) (9.0.0)\n",
            "Requirement already satisfied: pandas>=1.1.4 in /usr/local/lib/python3.11/dist-packages (from ultralytics) (1.5.2)\n",
            "Requirement already satisfied: ultralytics-thop>=2.0.0 in /usr/local/lib/python3.11/dist-packages (from ultralytics) (2.0.14)\n",
            "Requirement already satisfied: contourpy>=1.0.1 in /usr/local/lib/python3.11/dist-packages (from matplotlib>=3.3.0->ultralytics) (1.3.2)\n",
            "Requirement already satisfied: cycler>=0.10 in /usr/local/lib/python3.11/dist-packages (from matplotlib>=3.3.0->ultralytics) (0.12.1)\n",
            "Requirement already satisfied: fonttools>=4.22.0 in /usr/local/lib/python3.11/dist-packages (from matplotlib>=3.3.0->ultralytics) (4.58.4)\n",
            "Requirement already satisfied: kiwisolver>=1.3.1 in /usr/local/lib/python3.11/dist-packages (from matplotlib>=3.3.0->ultralytics) (1.4.8)\n",
            "Requirement already satisfied: packaging>=20.0 in /usr/local/lib/python3.11/dist-packages (from matplotlib>=3.3.0->ultralytics) (24.2)\n",
            "Requirement already satisfied: pyparsing>=2.3.1 in /usr/local/lib/python3.11/dist-packages (from matplotlib>=3.3.0->ultralytics) (3.2.3)\n",
            "Requirement already satisfied: python-dateutil>=2.7 in /usr/local/lib/python3.11/dist-packages (from matplotlib>=3.3.0->ultralytics) (2.9.0.post0)\n",
            "Requirement already satisfied: pytz>=2020.1 in /usr/local/lib/python3.11/dist-packages (from pandas>=1.1.4->ultralytics) (2025.2)\n",
            "Requirement already satisfied: charset-normalizer<4,>=2 in /usr/local/lib/python3.11/dist-packages (from requests>=2.23.0->ultralytics) (3.4.2)\n",
            "Requirement already satisfied: idna<4,>=2.5 in /usr/local/lib/python3.11/dist-packages (from requests>=2.23.0->ultralytics) (3.10)\n",
            "Requirement already satisfied: urllib3<3,>=1.21.1 in /usr/local/lib/python3.11/dist-packages (from requests>=2.23.0->ultralytics) (1.26.15)\n",
            "Requirement already satisfied: certifi>=2017.4.17 in /usr/local/lib/python3.11/dist-packages (from requests>=2.23.0->ultralytics) (2025.6.15)\n",
            "Requirement already satisfied: filelock in /usr/local/lib/python3.11/dist-packages (from torch>=1.8.0->ultralytics) (3.18.0)\n",
            "Requirement already satisfied: typing-extensions>=4.10.0 in /usr/local/lib/python3.11/dist-packages (from torch>=1.8.0->ultralytics) (4.14.0)\n",
            "Requirement already satisfied: networkx in /usr/local/lib/python3.11/dist-packages (from torch>=1.8.0->ultralytics) (3.5)\n",
            "Requirement already satisfied: jinja2 in /usr/local/lib/python3.11/dist-packages (from torch>=1.8.0->ultralytics) (3.1.6)\n",
            "Requirement already satisfied: fsspec in /usr/local/lib/python3.11/dist-packages (from torch>=1.8.0->ultralytics) (2025.3.2)\n",
            "Requirement already satisfied: nvidia-cuda-nvrtc-cu12==12.4.127 in /usr/local/lib/python3.11/dist-packages (from torch>=1.8.0->ultralytics) (12.4.127)\n",
            "Requirement already satisfied: nvidia-cuda-runtime-cu12==12.4.127 in /usr/local/lib/python3.11/dist-packages (from torch>=1.8.0->ultralytics) (12.4.127)\n",
            "Requirement already satisfied: nvidia-cuda-cupti-cu12==12.4.127 in /usr/local/lib/python3.11/dist-packages (from torch>=1.8.0->ultralytics) (12.4.127)\n",
            "Requirement already satisfied: nvidia-cudnn-cu12==9.1.0.70 in /usr/local/lib/python3.11/dist-packages (from torch>=1.8.0->ultralytics) (9.1.0.70)\n",
            "Requirement already satisfied: nvidia-cublas-cu12==12.4.5.8 in /usr/local/lib/python3.11/dist-packages (from torch>=1.8.0->ultralytics) (12.4.5.8)\n",
            "Requirement already satisfied: nvidia-cufft-cu12==11.2.1.3 in /usr/local/lib/python3.11/dist-packages (from torch>=1.8.0->ultralytics) (11.2.1.3)\n",
            "Requirement already satisfied: nvidia-curand-cu12==10.3.5.147 in /usr/local/lib/python3.11/dist-packages (from torch>=1.8.0->ultralytics) (10.3.5.147)\n",
            "Requirement already satisfied: nvidia-cusolver-cu12==11.6.1.9 in /usr/local/lib/python3.11/dist-packages (from torch>=1.8.0->ultralytics) (11.6.1.9)\n",
            "Requirement already satisfied: nvidia-cusparse-cu12==12.3.1.170 in /usr/local/lib/python3.11/dist-packages (from torch>=1.8.0->ultralytics) (12.3.1.170)\n",
            "Requirement already satisfied: nvidia-cusparselt-cu12==0.6.2 in /usr/local/lib/python3.11/dist-packages (from torch>=1.8.0->ultralytics) (0.6.2)\n",
            "Requirement already satisfied: nvidia-nccl-cu12==2.21.5 in /usr/local/lib/python3.11/dist-packages (from torch>=1.8.0->ultralytics) (2.21.5)\n",
            "Requirement already satisfied: nvidia-nvtx-cu12==12.4.127 in /usr/local/lib/python3.11/dist-packages (from torch>=1.8.0->ultralytics) (12.4.127)\n",
            "Requirement already satisfied: nvidia-nvjitlink-cu12==12.4.127 in /usr/local/lib/python3.11/dist-packages (from torch>=1.8.0->ultralytics) (12.4.127)\n",
            "Requirement already satisfied: triton==3.2.0 in /usr/local/lib/python3.11/dist-packages (from torch>=1.8.0->ultralytics) (3.2.0)\n",
            "Requirement already satisfied: sympy==1.13.1 in /usr/local/lib/python3.11/dist-packages (from torch>=1.8.0->ultralytics) (1.13.1)\n",
            "Requirement already satisfied: mpmath<1.4,>=1.1.0 in /usr/local/lib/python3.11/dist-packages (from sympy==1.13.1->torch>=1.8.0->ultralytics) (1.3.0)\n",
            "Requirement already satisfied: six>=1.5 in /usr/local/lib/python3.11/dist-packages (from python-dateutil>=2.7->matplotlib>=3.3.0->ultralytics) (1.17.0)\n",
            "Requirement already satisfied: MarkupSafe>=2.0 in /usr/local/lib/python3.11/dist-packages (from jinja2->torch>=1.8.0->ultralytics) (2.1.5)\n",
            "Requirement already satisfied: dataset-tools in /usr/local/lib/python3.11/dist-packages (0.1.8)\n",
            "Requirement already satisfied: supervisely>=6.72.28 in /usr/local/lib/python3.11/dist-packages (from dataset-tools) (6.73.386)\n",
            "Requirement already satisfied: numpy<2.0.0,>=1.19 in /usr/local/lib/python3.11/dist-packages (from dataset-tools) (1.26.4)\n",
            "Requirement already satisfied: requests<3.0.0,>=2.27.1 in /usr/local/lib/python3.11/dist-packages (from dataset-tools) (2.32.3)\n",
            "Requirement already satisfied: requests-toolbelt<1.0.0,>=0.9.1 in /usr/local/lib/python3.11/dist-packages (from dataset-tools) (0.10.1)\n",
            "Requirement already satisfied: tqdm<5.0.0,>=4.62.3 in /usr/local/lib/python3.11/dist-packages (from dataset-tools) (4.67.1)\n",
            "Requirement already satisfied: pandas<=1.5.2,>=1.1.3 in /usr/local/lib/python3.11/dist-packages (from dataset-tools) (1.5.2)\n",
            "Requirement already satisfied: matplotlib<4.0.0,>=3.3.2 in /usr/local/lib/python3.11/dist-packages (from dataset-tools) (3.10.0)\n",
            "Requirement already satisfied: scikit-image<1.0.0,>=0.17.1 in /usr/local/lib/python3.11/dist-packages (from dataset-tools) (0.25.2)\n",
            "Requirement already satisfied: dataframe-image<1.0.0,>=0.1.11 in /usr/local/lib/python3.11/dist-packages (from dataset-tools) (0.2.7)\n",
            "Requirement already satisfied: inflect>=6.0.0 in /usr/local/lib/python3.11/dist-packages (from dataset-tools) (7.5.0)\n",
            "Requirement already satisfied: gdown>=4.7.1 in /usr/local/lib/python3.11/dist-packages (from dataset-tools) (5.2.0)\n",
            "Requirement already satisfied: urllib3==1.26.15 in /usr/local/lib/python3.11/dist-packages (from dataset-tools) (1.26.15)\n",
            "Requirement already satisfied: geojson>=3.0.0 in /usr/local/lib/python3.11/dist-packages (from dataset-tools) (3.2.0)\n",
            "Requirement already satisfied: titlecase>=2.4.1 in /usr/local/lib/python3.11/dist-packages (from dataset-tools) (2.4.1)\n",
            "Requirement already satisfied: pycocotools>=2.0.0 in /usr/local/lib/python3.11/dist-packages (from dataset-tools) (2.0.10)\n",
            "Requirement already satisfied: memory-profiler==0.61.0 in /usr/local/lib/python3.11/dist-packages (from dataset-tools) (0.61.0)\n",
            "Requirement already satisfied: Pympler==1.0.1 in /usr/local/lib/python3.11/dist-packages (from dataset-tools) (1.0.1)\n",
            "Requirement already satisfied: xmltodict==0.13.0 in /usr/local/lib/python3.11/dist-packages (from dataset-tools) (0.13.0)\n",
            "Requirement already satisfied: imagesize==1.4.1 in /usr/local/lib/python3.11/dist-packages (from dataset-tools) (1.4.1)\n",
            "Requirement already satisfied: psutil in /usr/local/lib/python3.11/dist-packages (from memory-profiler==0.61.0->dataset-tools) (5.9.5)\n",
            "Requirement already satisfied: nbconvert>=5 in /usr/local/lib/python3.11/dist-packages (from dataframe-image<1.0.0,>=0.1.11->dataset-tools) (7.16.6)\n",
            "Requirement already satisfied: aiohttp>=3.10.2 in /usr/local/lib/python3.11/dist-packages (from dataframe-image<1.0.0,>=0.1.11->dataset-tools) (3.11.15)\n",
            "Requirement already satisfied: pillow in /usr/local/lib/python3.11/dist-packages (from dataframe-image<1.0.0,>=0.1.11->dataset-tools) (10.2.0)\n",
            "Requirement already satisfied: packaging in /usr/local/lib/python3.11/dist-packages (from dataframe-image<1.0.0,>=0.1.11->dataset-tools) (24.2)\n",
            "Requirement already satisfied: mistune in /usr/local/lib/python3.11/dist-packages (from dataframe-image<1.0.0,>=0.1.11->dataset-tools) (3.1.3)\n",
            "Requirement already satisfied: lxml in /usr/local/lib/python3.11/dist-packages (from dataframe-image<1.0.0,>=0.1.11->dataset-tools) (5.4.0)\n",
            "Requirement already satisfied: beautifulsoup4 in /usr/local/lib/python3.11/dist-packages (from dataframe-image<1.0.0,>=0.1.11->dataset-tools) (4.13.4)\n",
            "Requirement already satisfied: cssutils in /usr/local/lib/python3.11/dist-packages (from dataframe-image<1.0.0,>=0.1.11->dataset-tools) (2.11.1)\n",
            "Requirement already satisfied: playwright in /usr/local/lib/python3.11/dist-packages (from dataframe-image<1.0.0,>=0.1.11->dataset-tools) (1.53.0)\n",
            "Requirement already satisfied: cssselect in /usr/local/lib/python3.11/dist-packages (from dataframe-image<1.0.0,>=0.1.11->dataset-tools) (1.3.0)\n",
            "Requirement already satisfied: filelock in /usr/local/lib/python3.11/dist-packages (from gdown>=4.7.1->dataset-tools) (3.18.0)\n",
            "Requirement already satisfied: more_itertools>=8.5.0 in /usr/local/lib/python3.11/dist-packages (from inflect>=6.0.0->dataset-tools) (10.7.0)\n",
            "Requirement already satisfied: typeguard>=4.0.1 in /usr/local/lib/python3.11/dist-packages (from inflect>=6.0.0->dataset-tools) (4.4.4)\n",
            "Requirement already satisfied: contourpy>=1.0.1 in /usr/local/lib/python3.11/dist-packages (from matplotlib<4.0.0,>=3.3.2->dataset-tools) (1.3.2)\n",
            "Requirement already satisfied: cycler>=0.10 in /usr/local/lib/python3.11/dist-packages (from matplotlib<4.0.0,>=3.3.2->dataset-tools) (0.12.1)\n",
            "Requirement already satisfied: fonttools>=4.22.0 in /usr/local/lib/python3.11/dist-packages (from matplotlib<4.0.0,>=3.3.2->dataset-tools) (4.58.4)\n",
            "Requirement already satisfied: kiwisolver>=1.3.1 in /usr/local/lib/python3.11/dist-packages (from matplotlib<4.0.0,>=3.3.2->dataset-tools) (1.4.8)\n",
            "Requirement already satisfied: pyparsing>=2.3.1 in /usr/local/lib/python3.11/dist-packages (from matplotlib<4.0.0,>=3.3.2->dataset-tools) (3.2.3)\n",
            "Requirement already satisfied: python-dateutil>=2.7 in /usr/local/lib/python3.11/dist-packages (from matplotlib<4.0.0,>=3.3.2->dataset-tools) (2.9.0.post0)\n",
            "Requirement already satisfied: pytz>=2020.1 in /usr/local/lib/python3.11/dist-packages (from pandas<=1.5.2,>=1.1.3->dataset-tools) (2025.2)\n",
            "Requirement already satisfied: charset-normalizer<4,>=2 in /usr/local/lib/python3.11/dist-packages (from requests<3.0.0,>=2.27.1->dataset-tools) (3.4.2)\n",
            "Requirement already satisfied: idna<4,>=2.5 in /usr/local/lib/python3.11/dist-packages (from requests<3.0.0,>=2.27.1->dataset-tools) (3.10)\n",
            "Requirement already satisfied: certifi>=2017.4.17 in /usr/local/lib/python3.11/dist-packages (from requests<3.0.0,>=2.27.1->dataset-tools) (2025.6.15)\n",
            "Requirement already satisfied: scipy>=1.11.4 in /usr/local/lib/python3.11/dist-packages (from scikit-image<1.0.0,>=0.17.1->dataset-tools) (1.15.3)\n",
            "Requirement already satisfied: networkx>=3.0 in /usr/local/lib/python3.11/dist-packages (from scikit-image<1.0.0,>=0.17.1->dataset-tools) (3.5)\n",
            "Requirement already satisfied: imageio!=2.35.0,>=2.33 in /usr/local/lib/python3.11/dist-packages (from scikit-image<1.0.0,>=0.17.1->dataset-tools) (2.37.0)\n",
            "Requirement already satisfied: tifffile>=2022.8.12 in /usr/local/lib/python3.11/dist-packages (from scikit-image<1.0.0,>=0.17.1->dataset-tools) (2025.6.11)\n",
            "Requirement already satisfied: lazy-loader>=0.4 in /usr/local/lib/python3.11/dist-packages (from scikit-image<1.0.0,>=0.17.1->dataset-tools) (0.4)\n",
            "Requirement already satisfied: cachetools<=5.5.0,>=4.2.3 in /usr/local/lib/python3.11/dist-packages (from supervisely>=6.72.28->dataset-tools) (5.5.0)\n",
            "Requirement already satisfied: opencv-python<5.0.0.0,>=4.6.0.66 in /usr/local/lib/python3.11/dist-packages (from supervisely>=6.72.28->dataset-tools) (4.11.0.86)\n",
            "Requirement already satisfied: PTable<1.0.0,>=0.9.2 in /usr/local/lib/python3.11/dist-packages (from supervisely>=6.72.28->dataset-tools) (0.9.2)\n",
            "Requirement already satisfied: protobuf<=3.20.3,>=3.19.5 in /usr/local/lib/python3.11/dist-packages (from supervisely>=6.72.28->dataset-tools) (3.20.3)\n",
            "Requirement already satisfied: python-json-logger<3.0.0,>=0.1.11 in /usr/local/lib/python3.11/dist-packages (from supervisely>=6.72.28->dataset-tools) (2.0.7)\n",
            "Requirement already satisfied: Shapely<=2.0.2,>=1.7.1 in /usr/local/lib/python3.11/dist-packages (from supervisely>=6.72.28->dataset-tools) (2.0.2)\n",
            "Requirement already satisfied: bidict<1.0.0,>=0.21.2 in /usr/local/lib/python3.11/dist-packages (from supervisely>=6.72.28->dataset-tools) (0.23.1)\n",
            "Requirement already satisfied: varname<1.0.0,>=0.8.1 in /usr/local/lib/python3.11/dist-packages (from supervisely>=6.72.28->dataset-tools) (0.15.0)\n",
            "Requirement already satisfied: python-dotenv<=1.0.0,>=0.19.2 in /usr/local/lib/python3.11/dist-packages (from supervisely>=6.72.28->dataset-tools) (1.0.0)\n",
            "Requirement already satisfied: pynrrd<1.0.0,>=0.4.2 in /usr/local/lib/python3.11/dist-packages (from supervisely>=6.72.28->dataset-tools) (0.4.3)\n",
            "Requirement already satisfied: SimpleITK<=2.4.1.0,>=2.1.1.2 in /usr/local/lib/python3.11/dist-packages (from supervisely>=6.72.28->dataset-tools) (2.4.1)\n",
            "Requirement already satisfied: pydicom<3.0.0,>=2.3.0 in /usr/local/lib/python3.11/dist-packages (from supervisely>=6.72.28->dataset-tools) (2.4.4)\n",
            "Requirement already satisfied: stringcase<2.0.0,>=1.2.0 in /usr/local/lib/python3.11/dist-packages (from supervisely>=6.72.28->dataset-tools) (1.2.0)\n",
            "Requirement already satisfied: python-magic<1.0.0,>=0.4.25 in /usr/local/lib/python3.11/dist-packages (from supervisely>=6.72.28->dataset-tools) (0.4.27)\n",
            "Requirement already satisfied: trimesh<=4.5.0,>=3.11.2 in /usr/local/lib/python3.11/dist-packages (from supervisely>=6.72.28->dataset-tools) (4.5.0)\n",
            "Requirement already satisfied: uvicorn<1.0.0,>=0.18.2 in /usr/local/lib/python3.11/dist-packages (from uvicorn[standard]<1.0.0,>=0.18.2->supervisely>=6.72.28->dataset-tools) (0.34.3)\n",
            "Requirement already satisfied: pydantic<=2.11.3,>=1.7.4 in /usr/local/lib/python3.11/dist-packages (from supervisely>=6.72.28->dataset-tools) (2.11.3)\n",
            "Requirement already satisfied: anyio<=4.2.0,>=3.7.1 in /usr/local/lib/python3.11/dist-packages (from supervisely>=6.72.28->dataset-tools) (4.2.0)\n",
            "Requirement already satisfied: fastapi<=0.109.0,>=0.79.0 in /usr/local/lib/python3.11/dist-packages (from supervisely>=6.72.28->dataset-tools) (0.109.0)\n",
            "Requirement already satisfied: websockets<=13.1,>=10.3 in /usr/local/lib/python3.11/dist-packages (from supervisely>=6.72.28->dataset-tools) (13.1)\n",
            "Requirement already satisfied: jinja2<4.0.0,>=3.0.3 in /usr/local/lib/python3.11/dist-packages (from supervisely>=6.72.28->dataset-tools) (3.1.6)\n",
            "Requirement already satisfied: jsonpatch<2.0,>=1.32 in /usr/local/lib/python3.11/dist-packages (from supervisely>=6.72.28->dataset-tools) (1.33)\n",
            "Requirement already satisfied: MarkupSafe<3.0.0,>=2.1.1 in /usr/local/lib/python3.11/dist-packages (from supervisely>=6.72.28->dataset-tools) (2.1.5)\n",
            "Requirement already satisfied: arel<1.0.0,>=0.2.0 in /usr/local/lib/python3.11/dist-packages (from supervisely>=6.72.28->dataset-tools) (0.3.0)\n",
            "Requirement already satisfied: async-asgi-testclient in /usr/local/lib/python3.11/dist-packages (from supervisely>=6.72.28->dataset-tools) (1.4.11)\n",
            "Requirement already satisfied: PyYAML>=5.4.0 in /usr/local/lib/python3.11/dist-packages (from supervisely>=6.72.28->dataset-tools) (6.0.2)\n",
            "Requirement already satisfied: distinctipy in /usr/local/lib/python3.11/dist-packages (from supervisely>=6.72.28->dataset-tools) (1.3.4)\n",
            "Requirement already satisfied: numerize in /usr/local/lib/python3.11/dist-packages (from supervisely>=6.72.28->dataset-tools) (0.12)\n",
            "Requirement already satisfied: ffmpeg-python==0.2.0 in /usr/local/lib/python3.11/dist-packages (from supervisely>=6.72.28->dataset-tools) (0.2.0)\n",
            "Requirement already satisfied: python-multipart<=0.0.12,>=0.0.5 in /usr/local/lib/python3.11/dist-packages (from supervisely>=6.72.28->dataset-tools) (0.0.12)\n",
            "Requirement already satisfied: GitPython in /usr/local/lib/python3.11/dist-packages (from supervisely>=6.72.28->dataset-tools) (3.1.44)\n",
            "Requirement already satisfied: giturlparse in /usr/local/lib/python3.11/dist-packages (from supervisely>=6.72.28->dataset-tools) (0.12.0)\n",
            "Requirement already satisfied: rich in /usr/local/lib/python3.11/dist-packages (from supervisely>=6.72.28->dataset-tools) (13.9.4)\n",
            "Requirement already satisfied: click in /usr/local/lib/python3.11/dist-packages (from supervisely>=6.72.28->dataset-tools) (8.2.1)\n",
            "Requirement already satisfied: imutils==0.5.4 in /usr/local/lib/python3.11/dist-packages (from supervisely>=6.72.28->dataset-tools) (0.5.4)\n",
            "Requirement already satisfied: cacheout==0.14.1 in /usr/local/lib/python3.11/dist-packages (from supervisely>=6.72.28->dataset-tools) (0.14.1)\n",
            "Requirement already satisfied: jsonschema<=4.20.0,>=2.6.0 in /usr/local/lib/python3.11/dist-packages (from supervisely>=6.72.28->dataset-tools) (4.20.0)\n",
            "Requirement already satisfied: pyjwt<3.0.0,>=2.1.0 in /usr/local/lib/python3.11/dist-packages (from supervisely>=6.72.28->dataset-tools) (2.10.1)\n",
            "Requirement already satisfied: zstd in /usr/local/lib/python3.11/dist-packages (from supervisely>=6.72.28->dataset-tools) (1.5.7.2)\n",
            "Requirement already satisfied: aiofiles in /usr/local/lib/python3.11/dist-packages (from supervisely>=6.72.28->dataset-tools) (24.1.0)\n",
            "Requirement already satisfied: httpx==0.27.2 in /usr/local/lib/python3.11/dist-packages (from httpx[http2]==0.27.2->supervisely>=6.72.28->dataset-tools) (0.27.2)\n",
            "Requirement already satisfied: debugpy in /usr/local/lib/python3.11/dist-packages (from supervisely>=6.72.28->dataset-tools) (1.8.0)\n",
            "Requirement already satisfied: future in /usr/local/lib/python3.11/dist-packages (from ffmpeg-python==0.2.0->supervisely>=6.72.28->dataset-tools) (1.0.0)\n",
            "Requirement already satisfied: httpcore==1.* in /usr/local/lib/python3.11/dist-packages (from httpx==0.27.2->httpx[http2]==0.27.2->supervisely>=6.72.28->dataset-tools) (1.0.9)\n",
            "Requirement already satisfied: sniffio in /usr/local/lib/python3.11/dist-packages (from httpx==0.27.2->httpx[http2]==0.27.2->supervisely>=6.72.28->dataset-tools) (1.3.1)\n",
            "Requirement already satisfied: h2<5,>=3 in /usr/local/lib/python3.11/dist-packages (from httpx[http2]==0.27.2->supervisely>=6.72.28->dataset-tools) (4.2.0)\n",
            "Requirement already satisfied: h11>=0.16 in /usr/local/lib/python3.11/dist-packages (from httpcore==1.*->httpx==0.27.2->httpx[http2]==0.27.2->supervisely>=6.72.28->dataset-tools) (0.16.0)\n",
            "Requirement already satisfied: aiohappyeyeballs>=2.3.0 in /usr/local/lib/python3.11/dist-packages (from aiohttp>=3.10.2->dataframe-image<1.0.0,>=0.1.11->dataset-tools) (2.6.1)\n",
            "Requirement already satisfied: aiosignal>=1.1.2 in /usr/local/lib/python3.11/dist-packages (from aiohttp>=3.10.2->dataframe-image<1.0.0,>=0.1.11->dataset-tools) (1.3.2)\n",
            "Requirement already satisfied: attrs>=17.3.0 in /usr/local/lib/python3.11/dist-packages (from aiohttp>=3.10.2->dataframe-image<1.0.0,>=0.1.11->dataset-tools) (25.3.0)\n",
            "Requirement already satisfied: frozenlist>=1.1.1 in /usr/local/lib/python3.11/dist-packages (from aiohttp>=3.10.2->dataframe-image<1.0.0,>=0.1.11->dataset-tools) (1.7.0)\n",
            "Requirement already satisfied: multidict<7.0,>=4.5 in /usr/local/lib/python3.11/dist-packages (from aiohttp>=3.10.2->dataframe-image<1.0.0,>=0.1.11->dataset-tools) (6.4.4)\n",
            "Requirement already satisfied: propcache>=0.2.0 in /usr/local/lib/python3.11/dist-packages (from aiohttp>=3.10.2->dataframe-image<1.0.0,>=0.1.11->dataset-tools) (0.3.2)\n",
            "Requirement already satisfied: yarl<2.0,>=1.17.0 in /usr/local/lib/python3.11/dist-packages (from aiohttp>=3.10.2->dataframe-image<1.0.0,>=0.1.11->dataset-tools) (1.20.1)\n",
            "Requirement already satisfied: starlette==0.* in /usr/local/lib/python3.11/dist-packages (from arel<1.0.0,>=0.2.0->supervisely>=6.72.28->dataset-tools) (0.35.1)\n",
            "Requirement already satisfied: watchfiles==0.* in /usr/local/lib/python3.11/dist-packages (from arel<1.0.0,>=0.2.0->supervisely>=6.72.28->dataset-tools) (0.24.0)\n",
            "Requirement already satisfied: typing-extensions>=4.8.0 in /usr/local/lib/python3.11/dist-packages (from fastapi<=0.109.0,>=0.79.0->supervisely>=6.72.28->dataset-tools) (4.14.0)\n",
            "Requirement already satisfied: jsonpointer>=1.9 in /usr/local/lib/python3.11/dist-packages (from jsonpatch<2.0,>=1.32->supervisely>=6.72.28->dataset-tools) (3.0.0)\n",
            "Requirement already satisfied: jsonschema-specifications>=2023.03.6 in /usr/local/lib/python3.11/dist-packages (from jsonschema<=4.20.0,>=2.6.0->supervisely>=6.72.28->dataset-tools) (2025.4.1)\n",
            "Requirement already satisfied: referencing>=0.28.4 in /usr/local/lib/python3.11/dist-packages (from jsonschema<=4.20.0,>=2.6.0->supervisely>=6.72.28->dataset-tools) (0.36.2)\n",
            "Requirement already satisfied: rpds-py>=0.7.1 in /usr/local/lib/python3.11/dist-packages (from jsonschema<=4.20.0,>=2.6.0->supervisely>=6.72.28->dataset-tools) (0.25.1)\n",
            "Requirement already satisfied: bleach!=5.0.0 in /usr/local/lib/python3.11/dist-packages (from bleach[css]!=5.0.0->nbconvert>=5->dataframe-image<1.0.0,>=0.1.11->dataset-tools) (6.2.0)\n",
            "Requirement already satisfied: defusedxml in /usr/local/lib/python3.11/dist-packages (from nbconvert>=5->dataframe-image<1.0.0,>=0.1.11->dataset-tools) (0.7.1)\n",
            "Requirement already satisfied: jupyter-core>=4.7 in /usr/local/lib/python3.11/dist-packages (from nbconvert>=5->dataframe-image<1.0.0,>=0.1.11->dataset-tools) (5.8.1)\n",
            "Requirement already satisfied: jupyterlab-pygments in /usr/local/lib/python3.11/dist-packages (from nbconvert>=5->dataframe-image<1.0.0,>=0.1.11->dataset-tools) (0.3.0)\n",
            "Requirement already satisfied: nbclient>=0.5.0 in /usr/local/lib/python3.11/dist-packages (from nbconvert>=5->dataframe-image<1.0.0,>=0.1.11->dataset-tools) (0.10.2)\n",
            "Requirement already satisfied: nbformat>=5.7 in /usr/local/lib/python3.11/dist-packages (from nbconvert>=5->dataframe-image<1.0.0,>=0.1.11->dataset-tools) (5.10.4)\n",
            "Requirement already satisfied: pandocfilters>=1.4.1 in /usr/local/lib/python3.11/dist-packages (from nbconvert>=5->dataframe-image<1.0.0,>=0.1.11->dataset-tools) (1.5.1)\n",
            "Requirement already satisfied: pygments>=2.4.1 in /usr/local/lib/python3.11/dist-packages (from nbconvert>=5->dataframe-image<1.0.0,>=0.1.11->dataset-tools) (2.19.2)\n",
            "Requirement already satisfied: traitlets>=5.1 in /usr/local/lib/python3.11/dist-packages (from nbconvert>=5->dataframe-image<1.0.0,>=0.1.11->dataset-tools) (5.7.1)\n",
            "Requirement already satisfied: annotated-types>=0.6.0 in /usr/local/lib/python3.11/dist-packages (from pydantic<=2.11.3,>=1.7.4->supervisely>=6.72.28->dataset-tools) (0.7.0)\n",
            "Requirement already satisfied: pydantic-core==2.33.1 in /usr/local/lib/python3.11/dist-packages (from pydantic<=2.11.3,>=1.7.4->supervisely>=6.72.28->dataset-tools) (2.33.1)\n",
            "Requirement already satisfied: typing-inspection>=0.4.0 in /usr/local/lib/python3.11/dist-packages (from pydantic<=2.11.3,>=1.7.4->supervisely>=6.72.28->dataset-tools) (0.4.1)\n",
            "Requirement already satisfied: six>=1.5 in /usr/local/lib/python3.11/dist-packages (from python-dateutil>=2.7->matplotlib<4.0.0,>=3.3.2->dataset-tools) (1.17.0)\n",
            "Requirement already satisfied: httptools>=0.6.3 in /usr/local/lib/python3.11/dist-packages (from uvicorn[standard]<1.0.0,>=0.18.2->supervisely>=6.72.28->dataset-tools) (0.6.4)\n",
            "Requirement already satisfied: uvloop>=0.15.1 in /usr/local/lib/python3.11/dist-packages (from uvicorn[standard]<1.0.0,>=0.18.2->supervisely>=6.72.28->dataset-tools) (0.21.0)\n",
            "Requirement already satisfied: executing<3.0,>=2.1 in /usr/local/lib/python3.11/dist-packages (from varname<1.0.0,>=0.8.1->supervisely>=6.72.28->dataset-tools) (2.2.0)\n",
            "Requirement already satisfied: soupsieve>1.2 in /usr/local/lib/python3.11/dist-packages (from beautifulsoup4->dataframe-image<1.0.0,>=0.1.11->dataset-tools) (2.7)\n",
            "Requirement already satisfied: gitdb<5,>=4.0.1 in /usr/local/lib/python3.11/dist-packages (from GitPython->supervisely>=6.72.28->dataset-tools) (4.0.12)\n",
            "Requirement already satisfied: pyee<14,>=13 in /usr/local/lib/python3.11/dist-packages (from playwright->dataframe-image<1.0.0,>=0.1.11->dataset-tools) (13.0.0)\n",
            "Requirement already satisfied: greenlet<4.0.0,>=3.1.1 in /usr/local/lib/python3.11/dist-packages (from playwright->dataframe-image<1.0.0,>=0.1.11->dataset-tools) (3.2.3)\n",
            "Requirement already satisfied: PySocks!=1.5.7,>=1.5.6 in /usr/local/lib/python3.11/dist-packages (from requests[socks]->gdown>=4.7.1->dataset-tools) (1.7.1)\n",
            "Requirement already satisfied: markdown-it-py>=2.2.0 in /usr/local/lib/python3.11/dist-packages (from rich->supervisely>=6.72.28->dataset-tools) (3.0.0)\n",
            "Requirement already satisfied: webencodings in /usr/local/lib/python3.11/dist-packages (from bleach!=5.0.0->bleach[css]!=5.0.0->nbconvert>=5->dataframe-image<1.0.0,>=0.1.11->dataset-tools) (0.5.1)\n",
            "Requirement already satisfied: tinycss2<1.5,>=1.1.0 in /usr/local/lib/python3.11/dist-packages (from bleach[css]!=5.0.0->nbconvert>=5->dataframe-image<1.0.0,>=0.1.11->dataset-tools) (1.4.0)\n",
            "Requirement already satisfied: smmap<6,>=3.0.1 in /usr/local/lib/python3.11/dist-packages (from gitdb<5,>=4.0.1->GitPython->supervisely>=6.72.28->dataset-tools) (5.0.2)\n",
            "Requirement already satisfied: hyperframe<7,>=6.1 in /usr/local/lib/python3.11/dist-packages (from h2<5,>=3->httpx[http2]==0.27.2->supervisely>=6.72.28->dataset-tools) (6.1.0)\n",
            "Requirement already satisfied: hpack<5,>=4.1 in /usr/local/lib/python3.11/dist-packages (from h2<5,>=3->httpx[http2]==0.27.2->supervisely>=6.72.28->dataset-tools) (4.1.0)\n",
            "Requirement already satisfied: platformdirs>=2.5 in /usr/local/lib/python3.11/dist-packages (from jupyter-core>=4.7->nbconvert>=5->dataframe-image<1.0.0,>=0.1.11->dataset-tools) (4.3.8)\n",
            "Requirement already satisfied: mdurl~=0.1 in /usr/local/lib/python3.11/dist-packages (from markdown-it-py>=2.2.0->rich->supervisely>=6.72.28->dataset-tools) (0.1.2)\n",
            "Requirement already satisfied: jupyter-client>=6.1.12 in /usr/local/lib/python3.11/dist-packages (from nbclient>=0.5.0->nbconvert>=5->dataframe-image<1.0.0,>=0.1.11->dataset-tools) (6.1.12)\n",
            "Requirement already satisfied: fastjsonschema>=2.15 in /usr/local/lib/python3.11/dist-packages (from nbformat>=5.7->nbconvert>=5->dataframe-image<1.0.0,>=0.1.11->dataset-tools) (2.21.1)\n",
            "Requirement already satisfied: pyzmq>=13 in /usr/local/lib/python3.11/dist-packages (from jupyter-client>=6.1.12->nbclient>=0.5.0->nbconvert>=5->dataframe-image<1.0.0,>=0.1.11->dataset-tools) (24.0.1)\n",
            "Requirement already satisfied: tornado>=4.1 in /usr/local/lib/python3.11/dist-packages (from jupyter-client>=6.1.12->nbclient>=0.5.0->nbconvert>=5->dataframe-image<1.0.0,>=0.1.11->dataset-tools) (6.4.2)\n",
            "Requirement already satisfied: supervisely in /usr/local/lib/python3.11/dist-packages (6.73.386)\n",
            "Requirement already satisfied: cachetools<=5.5.0,>=4.2.3 in /usr/local/lib/python3.11/dist-packages (from supervisely) (5.5.0)\n",
            "Requirement already satisfied: numpy<2.0.0,>=1.19 in /usr/local/lib/python3.11/dist-packages (from supervisely) (1.26.4)\n",
            "Requirement already satisfied: opencv-python<5.0.0.0,>=4.6.0.66 in /usr/local/lib/python3.11/dist-packages (from supervisely) (4.11.0.86)\n",
            "Requirement already satisfied: PTable<1.0.0,>=0.9.2 in /usr/local/lib/python3.11/dist-packages (from supervisely) (0.9.2)\n",
            "Requirement already satisfied: pillow<=10.2.0,>=5.4.1 in /usr/local/lib/python3.11/dist-packages (from supervisely) (10.2.0)\n",
            "Requirement already satisfied: protobuf<=3.20.3,>=3.19.5 in /usr/local/lib/python3.11/dist-packages (from supervisely) (3.20.3)\n",
            "Requirement already satisfied: python-json-logger<3.0.0,>=0.1.11 in /usr/local/lib/python3.11/dist-packages (from supervisely) (2.0.7)\n",
            "Requirement already satisfied: requests<3.0.0,>=2.27.1 in /usr/local/lib/python3.11/dist-packages (from supervisely) (2.32.3)\n",
            "Requirement already satisfied: requests-toolbelt>=0.9.1 in /usr/local/lib/python3.11/dist-packages (from supervisely) (0.10.1)\n",
            "Requirement already satisfied: Shapely<=2.0.2,>=1.7.1 in /usr/local/lib/python3.11/dist-packages (from supervisely) (2.0.2)\n",
            "Requirement already satisfied: bidict<1.0.0,>=0.21.2 in /usr/local/lib/python3.11/dist-packages (from supervisely) (0.23.1)\n",
            "Requirement already satisfied: varname<1.0.0,>=0.8.1 in /usr/local/lib/python3.11/dist-packages (from supervisely) (0.15.0)\n",
            "Requirement already satisfied: python-dotenv<=1.0.0,>=0.19.2 in /usr/local/lib/python3.11/dist-packages (from supervisely) (1.0.0)\n",
            "Requirement already satisfied: pynrrd<1.0.0,>=0.4.2 in /usr/local/lib/python3.11/dist-packages (from supervisely) (0.4.3)\n",
            "Requirement already satisfied: SimpleITK<=2.4.1.0,>=2.1.1.2 in /usr/local/lib/python3.11/dist-packages (from supervisely) (2.4.1)\n",
            "Requirement already satisfied: pydicom<3.0.0,>=2.3.0 in /usr/local/lib/python3.11/dist-packages (from supervisely) (2.4.4)\n",
            "Requirement already satisfied: stringcase<2.0.0,>=1.2.0 in /usr/local/lib/python3.11/dist-packages (from supervisely) (1.2.0)\n",
            "Requirement already satisfied: python-magic<1.0.0,>=0.4.25 in /usr/local/lib/python3.11/dist-packages (from supervisely) (0.4.27)\n",
            "Requirement already satisfied: trimesh<=4.5.0,>=3.11.2 in /usr/local/lib/python3.11/dist-packages (from supervisely) (4.5.0)\n",
            "Requirement already satisfied: uvicorn<1.0.0,>=0.18.2 in /usr/local/lib/python3.11/dist-packages (from uvicorn[standard]<1.0.0,>=0.18.2->supervisely) (0.34.3)\n",
            "Requirement already satisfied: pydantic<=2.11.3,>=1.7.4 in /usr/local/lib/python3.11/dist-packages (from supervisely) (2.11.3)\n",
            "Requirement already satisfied: anyio<=4.2.0,>=3.7.1 in /usr/local/lib/python3.11/dist-packages (from supervisely) (4.2.0)\n",
            "Requirement already satisfied: fastapi<=0.109.0,>=0.79.0 in /usr/local/lib/python3.11/dist-packages (from supervisely) (0.109.0)\n",
            "Requirement already satisfied: websockets<=13.1,>=10.3 in /usr/local/lib/python3.11/dist-packages (from supervisely) (13.1)\n",
            "Requirement already satisfied: jinja2<4.0.0,>=3.0.3 in /usr/local/lib/python3.11/dist-packages (from supervisely) (3.1.6)\n",
            "Requirement already satisfied: psutil<6.0.0,>=5.9.0 in /usr/local/lib/python3.11/dist-packages (from supervisely) (5.9.5)\n",
            "Requirement already satisfied: jsonpatch<2.0,>=1.32 in /usr/local/lib/python3.11/dist-packages (from supervisely) (1.33)\n",
            "Requirement already satisfied: MarkupSafe<3.0.0,>=2.1.1 in /usr/local/lib/python3.11/dist-packages (from supervisely) (2.1.5)\n",
            "Requirement already satisfied: arel<1.0.0,>=0.2.0 in /usr/local/lib/python3.11/dist-packages (from supervisely) (0.3.0)\n",
            "Requirement already satisfied: tqdm<5.0.0,>=4.62.3 in /usr/local/lib/python3.11/dist-packages (from supervisely) (4.67.1)\n",
            "Requirement already satisfied: pandas<=2.1.4,>=1.1.3 in /usr/local/lib/python3.11/dist-packages (from supervisely) (1.5.2)\n",
            "Requirement already satisfied: async-asgi-testclient in /usr/local/lib/python3.11/dist-packages (from supervisely) (1.4.11)\n",
            "Requirement already satisfied: PyYAML>=5.4.0 in /usr/local/lib/python3.11/dist-packages (from supervisely) (6.0.2)\n",
            "Requirement already satisfied: distinctipy in /usr/local/lib/python3.11/dist-packages (from supervisely) (1.3.4)\n",
            "Requirement already satisfied: beautifulsoup4 in /usr/local/lib/python3.11/dist-packages (from supervisely) (4.13.4)\n",
            "Requirement already satisfied: numerize in /usr/local/lib/python3.11/dist-packages (from supervisely) (0.12)\n",
            "Requirement already satisfied: ffmpeg-python==0.2.0 in /usr/local/lib/python3.11/dist-packages (from supervisely) (0.2.0)\n",
            "Requirement already satisfied: python-multipart<=0.0.12,>=0.0.5 in /usr/local/lib/python3.11/dist-packages (from supervisely) (0.0.12)\n",
            "Requirement already satisfied: GitPython in /usr/local/lib/python3.11/dist-packages (from supervisely) (3.1.44)\n",
            "Requirement already satisfied: giturlparse in /usr/local/lib/python3.11/dist-packages (from supervisely) (0.12.0)\n",
            "Requirement already satisfied: rich in /usr/local/lib/python3.11/dist-packages (from supervisely) (13.9.4)\n",
            "Requirement already satisfied: click in /usr/local/lib/python3.11/dist-packages (from supervisely) (8.2.1)\n",
            "Requirement already satisfied: imutils==0.5.4 in /usr/local/lib/python3.11/dist-packages (from supervisely) (0.5.4)\n",
            "Requirement already satisfied: urllib3<=2.2.2,>=1.26.15 in /usr/local/lib/python3.11/dist-packages (from supervisely) (1.26.15)\n",
            "Requirement already satisfied: cacheout==0.14.1 in /usr/local/lib/python3.11/dist-packages (from supervisely) (0.14.1)\n",
            "Requirement already satisfied: jsonschema<=4.20.0,>=2.6.0 in /usr/local/lib/python3.11/dist-packages (from supervisely) (4.20.0)\n",
            "Requirement already satisfied: pyjwt<3.0.0,>=2.1.0 in /usr/local/lib/python3.11/dist-packages (from supervisely) (2.10.1)\n",
            "Requirement already satisfied: zstd in /usr/local/lib/python3.11/dist-packages (from supervisely) (1.5.7.2)\n",
            "Requirement already satisfied: aiofiles in /usr/local/lib/python3.11/dist-packages (from supervisely) (24.1.0)\n",
            "Requirement already satisfied: httpx==0.27.2 in /usr/local/lib/python3.11/dist-packages (from httpx[http2]==0.27.2->supervisely) (0.27.2)\n",
            "Requirement already satisfied: debugpy in /usr/local/lib/python3.11/dist-packages (from supervisely) (1.8.0)\n",
            "Requirement already satisfied: future in /usr/local/lib/python3.11/dist-packages (from ffmpeg-python==0.2.0->supervisely) (1.0.0)\n",
            "Requirement already satisfied: certifi in /usr/local/lib/python3.11/dist-packages (from httpx==0.27.2->httpx[http2]==0.27.2->supervisely) (2025.6.15)\n",
            "Requirement already satisfied: httpcore==1.* in /usr/local/lib/python3.11/dist-packages (from httpx==0.27.2->httpx[http2]==0.27.2->supervisely) (1.0.9)\n",
            "Requirement already satisfied: idna in /usr/local/lib/python3.11/dist-packages (from httpx==0.27.2->httpx[http2]==0.27.2->supervisely) (3.10)\n",
            "Requirement already satisfied: sniffio in /usr/local/lib/python3.11/dist-packages (from httpx==0.27.2->httpx[http2]==0.27.2->supervisely) (1.3.1)\n",
            "Requirement already satisfied: h2<5,>=3 in /usr/local/lib/python3.11/dist-packages (from httpx[http2]==0.27.2->supervisely) (4.2.0)\n",
            "Requirement already satisfied: h11>=0.16 in /usr/local/lib/python3.11/dist-packages (from httpcore==1.*->httpx==0.27.2->httpx[http2]==0.27.2->supervisely) (0.16.0)\n",
            "Requirement already satisfied: starlette==0.* in /usr/local/lib/python3.11/dist-packages (from arel<1.0.0,>=0.2.0->supervisely) (0.35.1)\n",
            "Requirement already satisfied: watchfiles==0.* in /usr/local/lib/python3.11/dist-packages (from arel<1.0.0,>=0.2.0->supervisely) (0.24.0)\n",
            "Requirement already satisfied: typing-extensions>=4.8.0 in /usr/local/lib/python3.11/dist-packages (from fastapi<=0.109.0,>=0.79.0->supervisely) (4.14.0)\n",
            "Requirement already satisfied: jsonpointer>=1.9 in /usr/local/lib/python3.11/dist-packages (from jsonpatch<2.0,>=1.32->supervisely) (3.0.0)\n",
            "Requirement already satisfied: attrs>=22.2.0 in /usr/local/lib/python3.11/dist-packages (from jsonschema<=4.20.0,>=2.6.0->supervisely) (25.3.0)\n",
            "Requirement already satisfied: jsonschema-specifications>=2023.03.6 in /usr/local/lib/python3.11/dist-packages (from jsonschema<=4.20.0,>=2.6.0->supervisely) (2025.4.1)\n",
            "Requirement already satisfied: referencing>=0.28.4 in /usr/local/lib/python3.11/dist-packages (from jsonschema<=4.20.0,>=2.6.0->supervisely) (0.36.2)\n",
            "Requirement already satisfied: rpds-py>=0.7.1 in /usr/local/lib/python3.11/dist-packages (from jsonschema<=4.20.0,>=2.6.0->supervisely) (0.25.1)\n",
            "Requirement already satisfied: python-dateutil>=2.8.1 in /usr/local/lib/python3.11/dist-packages (from pandas<=2.1.4,>=1.1.3->supervisely) (2.9.0.post0)\n",
            "Requirement already satisfied: pytz>=2020.1 in /usr/local/lib/python3.11/dist-packages (from pandas<=2.1.4,>=1.1.3->supervisely) (2025.2)\n",
            "Requirement already satisfied: annotated-types>=0.6.0 in /usr/local/lib/python3.11/dist-packages (from pydantic<=2.11.3,>=1.7.4->supervisely) (0.7.0)\n",
            "Requirement already satisfied: pydantic-core==2.33.1 in /usr/local/lib/python3.11/dist-packages (from pydantic<=2.11.3,>=1.7.4->supervisely) (2.33.1)\n",
            "Requirement already satisfied: typing-inspection>=0.4.0 in /usr/local/lib/python3.11/dist-packages (from pydantic<=2.11.3,>=1.7.4->supervisely) (0.4.1)\n",
            "Requirement already satisfied: charset-normalizer<4,>=2 in /usr/local/lib/python3.11/dist-packages (from requests<3.0.0,>=2.27.1->supervisely) (3.4.2)\n",
            "Requirement already satisfied: httptools>=0.6.3 in /usr/local/lib/python3.11/dist-packages (from uvicorn[standard]<1.0.0,>=0.18.2->supervisely) (0.6.4)\n",
            "Requirement already satisfied: uvloop>=0.15.1 in /usr/local/lib/python3.11/dist-packages (from uvicorn[standard]<1.0.0,>=0.18.2->supervisely) (0.21.0)\n",
            "Requirement already satisfied: executing<3.0,>=2.1 in /usr/local/lib/python3.11/dist-packages (from varname<1.0.0,>=0.8.1->supervisely) (2.2.0)\n",
            "Requirement already satisfied: multidict<7.0,>=4.0 in /usr/local/lib/python3.11/dist-packages (from async-asgi-testclient->supervisely) (6.4.4)\n",
            "Requirement already satisfied: soupsieve>1.2 in /usr/local/lib/python3.11/dist-packages (from beautifulsoup4->supervisely) (2.7)\n",
            "Requirement already satisfied: gitdb<5,>=4.0.1 in /usr/local/lib/python3.11/dist-packages (from GitPython->supervisely) (4.0.12)\n",
            "Requirement already satisfied: markdown-it-py>=2.2.0 in /usr/local/lib/python3.11/dist-packages (from rich->supervisely) (3.0.0)\n",
            "Requirement already satisfied: pygments<3.0.0,>=2.13.0 in /usr/local/lib/python3.11/dist-packages (from rich->supervisely) (2.19.2)\n",
            "Requirement already satisfied: smmap<6,>=3.0.1 in /usr/local/lib/python3.11/dist-packages (from gitdb<5,>=4.0.1->GitPython->supervisely) (5.0.2)\n",
            "Requirement already satisfied: hyperframe<7,>=6.1 in /usr/local/lib/python3.11/dist-packages (from h2<5,>=3->httpx[http2]==0.27.2->supervisely) (6.1.0)\n",
            "Requirement already satisfied: hpack<5,>=4.1 in /usr/local/lib/python3.11/dist-packages (from h2<5,>=3->httpx[http2]==0.27.2->supervisely) (4.1.0)\n",
            "Requirement already satisfied: mdurl~=0.1 in /usr/local/lib/python3.11/dist-packages (from markdown-it-py>=2.2.0->rich->supervisely) (0.1.2)\n",
            "Requirement already satisfied: six>=1.5 in /usr/local/lib/python3.11/dist-packages (from python-dateutil>=2.8.1->pandas<=2.1.4,>=1.1.3->supervisely) (1.17.0)\n"
          ]
        }
      ]
    },
    {
      "cell_type": "code",
      "metadata": {
        "id": "wbvMlHd_QwMG",
        "colab": {
          "base_uri": "https://localhost:8080/"
        },
        "outputId": "a3574302-2a48-4349-b9c8-2a0ea1ff59ce"
      },
      "source": [
        "\n",
        "import ultralytics\n",
        "ultralytics.checks()"
      ],
      "execution_count": 2,
      "outputs": [
        {
          "output_type": "stream",
          "name": "stdout",
          "text": [
            "Ultralytics 8.3.160 🚀 Python-3.11.13 torch-2.6.0+cu124 CUDA:0 (Tesla T4, 15095MiB)\n",
            "Setup complete ✅ (2 CPUs, 12.7 GB RAM, 42.6/112.6 GB disk)\n"
          ]
        }
      ]
    },
    {
      "cell_type": "markdown",
      "source": [
        "download dataset and convert dataset to yolo format\n",
        "\n"
      ],
      "metadata": {
        "id": "ISnVfrDaavaZ"
      }
    },
    {
      "cell_type": "code",
      "source": [
        "import dataset_tools as dtools\n",
        "\n",
        "dtools.download(dataset='Car Segmentation', dst_dir='~/dataset-ninja/')\n",
        "\n",
        "\n",
        "\n",
        "\n"
      ],
      "metadata": {
        "id": "A9juCbyPau-o",
        "colab": {
          "base_uri": "https://localhost:8080/",
          "height": 70
        },
        "outputId": "281ca2dc-0baf-40c9-fdb8-3787bdf98257"
      },
      "execution_count": 4,
      "outputs": [
        {
          "output_type": "stream",
          "name": "stderr",
          "text": [
            "Downloading 'Car Segmentation': 100%|██████████| 446M/446M [00:35<00:00, 13.1MB/s]\n",
            "Unpacking 'car-segmentation.tar': 100%|██████████| 429/429 [00:01<00:00, 360.58file/s] \n"
          ]
        },
        {
          "output_type": "execute_result",
          "data": {
            "text/plain": [
              "'/root/dataset-ninja/car-segmentation'"
            ],
            "application/vnd.google.colaboratory.intrinsic+json": {
              "type": "string"
            }
          },
          "metadata": {},
          "execution_count": 4
        }
      ]
    },
    {
      "cell_type": "code",
      "source": [
        "import supervisely as sly"
      ],
      "metadata": {
        "id": "6gHPd9qmcyQ_"
      },
      "execution_count": null,
      "outputs": []
    },
    {
      "cell_type": "code",
      "metadata": {
        "id": "c215ed1f",
        "outputId": "2be1196d-6f0a-41ab-d839-0e8fc7d1ce62",
        "colab": {
          "base_uri": "https://localhost:8080/"
        }
      },
      "source": [
        "import supervisely as sly\n",
        "import os\n",
        "\n",
        "dataset_path = '/root/dataset-ninja/car-segmentation'  # Replace with the actual path to your Supervisely dataset\n",
        "yolo_dir = '/root/yolo_dataset'  # Replace with the desired output directory\n",
        "\n",
        "# Ensure the output directory exists\n",
        "os.makedirs(yolo_dir, exist_ok=True)\n",
        "\n",
        "# Convert the dataset to YOLO format\n",
        "sly.convert.to_yolo(dataset_path, yolo_dir)\n",
        "\n",
        "print(f\"Dataset converted and saved to: {yolo_dir}\")"
      ],
      "execution_count": 8,
      "outputs": [
        {
          "output_type": "stream",
          "name": "stderr",
          "text": [
            "Converting Supervisely project to YOLO format:   0%|          | 0/211 [00:00<?, ?it/s]{\"message\": \"Data config file has been saved to /root/yolo_dataset/data_config.yaml\", \"timestamp\": \"2025-06-30T01:31:03.051Z\", \"level\": \"info\"}\n",
            "Converting Supervisely project to YOLO format: 100%|██████████| 211/211 [00:03<00:00, 57.72it/s]\n",
            "{\"message\": \"Dataset 'ds' has been converted to YOLO format.\", \"timestamp\": \"2025-06-30T01:31:06.707Z\", \"level\": \"info\"}\n",
            "{\"message\": \"Project 'car-segmentation' has been converted to YOLO format.\", \"timestamp\": \"2025-06-30T01:31:06.708Z\", \"level\": \"info\"}\n"
          ]
        },
        {
          "output_type": "stream",
          "name": "stdout",
          "text": [
            "Dataset converted and saved to: /root/yolo_dataset\n"
          ]
        }
      ]
    },
    {
      "cell_type": "markdown",
      "source": [
        "## Train\n",
        "\n",
        "Train YOLO11 on [Detect](https://docs.ultralytics.com/tasks/detect/), [Segment](https://docs.ultralytics.com/tasks/segment/), [Classify](https://docs.ultralytics.com/tasks/classify/) and [Pose](https://docs.ultralytics.com/tasks/pose/) datasets. See [YOLO11 Train Docs](https://docs.ultralytics.com/modes/train/) for more information."
      ],
      "metadata": {
        "id": "fMV-sNfiSt_X"
      }
    },
    {
      "cell_type": "code",
      "source": [
        "from ultralytics import YOLO\n",
        "\n",
        "# Load a model\n",
        "model = YOLO(\"yolo11n-seg.pt\")  # load a pretrained model (recommended for training)\n",
        "\n",
        "# Train the model\n",
        "results = model.train(data=\"carparts-seg.yaml\", epochs=10, imgsz=640, batch=32, workers=64)"
      ],
      "metadata": {
        "id": "QUgMYUvlNLvy"
      },
      "execution_count": null,
      "outputs": []
    },
    {
      "cell_type": "markdown",
      "source": [
        "![Dataset sample image](https://github.com/ultralytics/docs/releases/download/0/dataset-sample-image.avif)"
      ],
      "metadata": {
        "id": "_Hapx6WkS--T"
      }
    },
    {
      "cell_type": "markdown",
      "source": [
        "## Predict\n",
        "\n",
        "YOLO11 may be used directly in the Command Line Interface (CLI) with a yolo command for a variety of tasks and modes and accepts additional arguments, i.e. imgsz=640. See a full list of available [yolo arguments](https://docs.ultralytics.com/usage/cfg/) and other details in the [YOLO11 Predict Docs](https://docs.ultralytics.com/modes/train/)."
      ],
      "metadata": {
        "id": "mKAUvDAbTEjQ"
      }
    },
    {
      "cell_type": "code",
      "source": [
        "from ultralytics import YOLO\n",
        "\n",
        "# Load a model\n",
        "model = YOLO(f\"{model.trainer.save_dir}/weights/best.pt\")  # load a fine-tuned model\n",
        "\n",
        "# Inference using the model (img/video/stream)\n",
        "prediction_results = model.predict(\"https://github.com/ultralytics/assets/releases/download/v0.0.0/carparts-image.jpg\", save=True)\n",
        "\n",
        "print(prediction_results)"
      ],
      "metadata": {
        "id": "nzTbeqK_TB6t"
      },
      "execution_count": null,
      "outputs": []
    },
    {
      "cell_type": "markdown",
      "source": [
        "&nbsp;&nbsp;&nbsp;&nbsp;&nbsp;&nbsp;&nbsp;&nbsp;\n",
        "<img align=\"left\" src=\"https://github.com/user-attachments/assets/436ded05-9203-4bb7-883b-f7a1f9a399c1\" width=\"600\">"
      ],
      "metadata": {
        "id": "lmNKY3rWWsvj"
      }
    },
    {
      "cell_type": "markdown",
      "source": [
        "## Export\n",
        "\n",
        "Export a YOLO11 model to any supported format below with the `format` argument, i.e. `format=onnx`. See [YOLO11 Export Docs](https://docs.ultralytics.com/modes/export/) for more information.\n",
        "\n",
        "- 💡 ProTip: Export to [ONNX](https://docs.ultralytics.com/integrations/onnx/) or [OpenVINO](https://docs.ultralytics.com/integrations/openvino/) for up to 3x CPU speedup.  \n",
        "- 💡 ProTip: Export to [TensorRT](https://docs.ultralytics.com/integrations/tensorrt/) for up to 5x GPU speedup.\n",
        "\n",
        "| Format                                                                   | `format` Argument | Model                     | Metadata | Arguments                                                            |\n",
        "|--------------------------------------------------------------------------|-------------------|---------------------------|----------|----------------------------------------------------------------------|\n",
        "| [PyTorch](https://pytorch.org/)                                          | -                 | `yolo11n.pt`              | ✅        | -                                                                    |\n",
        "| [TorchScript](https://docs.ultralytics.com/integrations/torchscript)     | `torchscript`     | `yolo11n.torchscript`     | ✅        | `imgsz`, `optimize`, `batch`                                         |\n",
        "| [ONNX](https://docs.ultralytics.com/integrations/onnx)                   | `onnx`            | `yolo11n.onnx`            | ✅        | `imgsz`, `half`, `dynamic`, `simplify`, `opset`, `batch`             |\n",
        "| [OpenVINO](https://docs.ultralytics.com/integrations/openvino)           | `openvino`        | `yolo11n_openvino_model/` | ✅        | `imgsz`, `half`, `dynamic`, `int8`, `batch`                          |\n",
        "| [TensorRT](https://docs.ultralytics.com/integrations/tensorrt)           | `engine`          | `yolo11n.engine`          | ✅        | `imgsz`, `half`, `dynamic`, `simplify`, `workspace`, `int8`, `batch` |\n",
        "| [CoreML](https://docs.ultralytics.com/integrations/coreml)               | `coreml`          | `yolo11n.mlpackage`       | ✅        | `imgsz`, `half`, `int8`, `nms`, `batch`                              |\n",
        "| [TF SavedModel](https://docs.ultralytics.com/integrations/tf-savedmodel) | `saved_model`     | `yolo11n_saved_model/`    | ✅        | `imgsz`, `keras`, `int8`, `batch`                                    |\n",
        "| [TF GraphDef](https://docs.ultralytics.com/integrations/tf-graphdef)     | `pb`              | `yolo11n.pb`              | ❌        | `imgsz`, `batch`                                                     |\n",
        "| [TF Lite](https://docs.ultralytics.com/integrations/tflite)              | `tflite`          | `yolo11n.tflite`          | ✅        | `imgsz`, `half`, `int8`, `batch`                                     |\n",
        "| [TF Edge TPU](https://docs.ultralytics.com/integrations/edge-tpu)        | `edgetpu`         | `yolo11n_edgetpu.tflite`  | ✅        | `imgsz`                                                              |\n",
        "| [TF.js](https://docs.ultralytics.com/integrations/tfjs)                  | `tfjs`            | `yolo11n_web_model/`      | ✅        | `imgsz`, `half`, `int8`, `batch`                                     |\n",
        "| [PaddlePaddle](https://docs.ultralytics.com/integrations/paddlepaddle)   | `paddle`          | `yolo11n_paddle_model/`   | ✅        | `imgsz`, `batch`                                                     |\n",
        "| [MNN](https://docs.ultralytics.com/integrations/mnn)                     | `mnn`             | `yolo11n.mnn`             | ✅        | `imgsz`, `batch`, `int8`, `half`                                     |\n",
        "| [NCNN](https://docs.ultralytics.com/integrations/ncnn)                   | `ncnn`            | `yolo11n_ncnn_model/`     | ✅        | `imgsz`, `half`, `batch`                                             |\n",
        "| [IMX500](https://docs.ultralytics.com/integrations/sony-imx500)          | `imx`             | `yolov8n_imx_model/`      | ✅        | `imgsz`, `int8`                                                      |\n",
        "| [RKNN](https://docs.ultralytics.com/integrations/rockchip-rknn)          | `rknn`            | `yolo11n_rknn_model/`     | ✅        | `imgsz`, `batch`, `name`                                             |"
      ],
      "metadata": {
        "id": "vWBYYdXhTkN7"
      }
    },
    {
      "cell_type": "code",
      "source": [
        "from ultralytics import YOLO\n",
        "\n",
        "# Load a model\n",
        "model = YOLO(f\"{model.trainer.save_dir}/weights/best.pt\")  # load a fine-tuned model\n",
        "\n",
        "# Export the model\n",
        "model.export(format=\"onnx\")"
      ],
      "metadata": {
        "id": "S4nWG40CTlOD"
      },
      "execution_count": null,
      "outputs": []
    }
  ]
}